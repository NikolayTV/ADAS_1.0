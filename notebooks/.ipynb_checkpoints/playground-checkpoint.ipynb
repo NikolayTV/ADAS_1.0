{
 "cells": [
  {
   "cell_type": "code",
   "execution_count": 38,
   "metadata": {},
   "outputs": [
    {
     "ename": "ModuleNotFoundError",
     "evalue": "No module named 'core'",
     "output_type": "error",
     "traceback": [
      "\u001b[0;31m---------------------------------------------------------------------------\u001b[0m",
      "\u001b[0;31mModuleNotFoundError\u001b[0m                       Traceback (most recent call last)",
      "\u001b[0;32m<ipython-input-38-cf577824a857>\u001b[0m in \u001b[0;36m<module>\u001b[0;34m\u001b[0m\n\u001b[1;32m      5\u001b[0m \u001b[0msys\u001b[0m\u001b[0;34m.\u001b[0m\u001b[0mpath\u001b[0m\u001b[0;34m.\u001b[0m\u001b[0mappend\u001b[0m\u001b[0;34m(\u001b[0m\u001b[0;34m'~/workspace/MERLIN & CO/02.Podroski/School/src/'\u001b[0m\u001b[0;34m)\u001b[0m\u001b[0;34m\u001b[0m\u001b[0;34m\u001b[0m\u001b[0m\n\u001b[1;32m      6\u001b[0m \u001b[0msys\u001b[0m\u001b[0;34m.\u001b[0m\u001b[0mpath\u001b[0m\u001b[0;34m.\u001b[0m\u001b[0mappend\u001b[0m\u001b[0;34m(\u001b[0m\u001b[0;34m'~/workspace/MERLIN & CO/02.Podroski/School/src/core/'\u001b[0m\u001b[0;34m)\u001b[0m\u001b[0;34m\u001b[0m\u001b[0;34m\u001b[0m\u001b[0m\n\u001b[0;32m----> 7\u001b[0;31m \u001b[0;32mfrom\u001b[0m \u001b[0mcore\u001b[0m\u001b[0;34m.\u001b[0m\u001b[0mcv\u001b[0m \u001b[0;32mimport\u001b[0m \u001b[0mstudent_action_recognition\u001b[0m \u001b[0;31m# OpenVino_head_pose_estimator\u001b[0m\u001b[0;34m\u001b[0m\u001b[0;34m\u001b[0m\u001b[0m\n\u001b[0m\u001b[1;32m      8\u001b[0m \u001b[0;34m\u001b[0m\u001b[0m\n\u001b[1;32m      9\u001b[0m \u001b[0;34m\u001b[0m\u001b[0m\n",
      "\u001b[0;31mModuleNotFoundError\u001b[0m: No module named 'core'"
     ]
    }
   ],
   "source": [
    "import cv2\n",
    "from openvino.inference_engine import IECore\n",
    "import numpy as np\n",
    "import sys\n",
    "sys.path.append('~/workspace/MERLIN & CO/02.Podroski/School/src/')\n",
    "sys.path.append('~/workspace/MERLIN & CO/02.Podroski/School/src/core/')\n",
    "from core.cv import student_action_recognition # OpenVino_head_pose_estimator\n",
    "\n",
    "\n",
    "\n",
    "\n",
    "model = student_action_recognition.OpenVino_student_action()\n"
   ]
  },
  {
   "cell_type": "code",
   "execution_count": 39,
   "metadata": {},
   "outputs": [
    {
     "data": {
      "text/plain": [
       "['/home/nikolay/workspace/MERLIN & CO/02.Podroski/School/notebooks',\n",
       " '/opt/intel/openvino_2020.4.287/python/python3.7',\n",
       " '/opt/intel/openvino_2020.4.287/python/python3',\n",
       " '/opt/intel/openvino_2020.4.287/deployment_tools/open_model_zoo/tools/accuracy_checker',\n",
       " '/opt/intel/openvino_2020.4.287/deployment_tools/model_optimizer',\n",
       " '/opt/intel/openvino_2020.4.287/data_processing/dl_streamer/python',\n",
       " '',\n",
       " '/opt/intel/openvino_2020.4.287/data_processing/gstreamer/lib/python3.6/site-packages',\n",
       " '/home/nikolay/workspace/MERLIN & CO/02.Podroski/School/notebooks',\n",
       " '/home/nikolay/.pyenv/versions/3.7.3/lib/python37.zip',\n",
       " '/home/nikolay/.pyenv/versions/3.7.3/lib/python3.7',\n",
       " '/home/nikolay/.pyenv/versions/3.7.3/lib/python3.7/lib-dynload',\n",
       " '/home/nikolay/.pyenv/versions/3.7.3/envs/main/lib/python3.7/site-packages',\n",
       " '/home/nikolay/workspace/04.Fastai/fastai2',\n",
       " '/home/nikolay/.pyenv/versions/3.7.3/envs/main/lib/python3.7/site-packages/py_snap_helpers-0.0.4-py3.7.egg',\n",
       " '/home/nikolay/workspace/13.Hackaton/repos/wildfirepy',\n",
       " '/home/nikolay/.pyenv/versions/3.7.3/envs/main/src/mesa',\n",
       " '/home/nikolay/.pyenv/versions/3.7.3/envs/main/lib/python3.7/site-packages/IPython/extensions',\n",
       " '/home/nikolay/.ipython',\n",
       " '~/workspace/MERLIN & CO/02.Podroski/School/src',\n",
       " '~/workspace/MERLIN & CO/02.Podroski/School/src',\n",
       " '~/workspace/MERLIN & CO/02.Podroski/School/src',\n",
       " '~/workspace/MERLIN & CO/02.Podroski/School/src',\n",
       " '~/workspace/MERLIN & CO/02.Podroski/School/src',\n",
       " '~/workspace/MERLIN & CO/02.Podroski/School/src',\n",
       " '~/workspace/MERLIN & CO/02.Podroski/School/src/',\n",
       " '~/workspace/MERLIN & CO/02.Podroski/School/src/',\n",
       " '~/workspace/MERLIN & CO/02.Podroski/School/src/',\n",
       " '~/workspace/MERLIN & CO/02.Podroski/School/src/core/',\n",
       " '~/workspace/MERLIN & CO/02.Podroski/School/src/',\n",
       " '~/workspace/MERLIN & CO/02.Podroski/School/src/core/']"
      ]
     },
     "execution_count": 39,
     "metadata": {},
     "output_type": "execute_result"
    }
   ],
   "source": [
    "sys.path"
   ]
  }
 ],
 "metadata": {
  "kernelspec": {
   "display_name": "Python 3",
   "language": "python",
   "name": "python3"
  },
  "language_info": {
   "codemirror_mode": {
    "name": "ipython",
    "version": 3
   },
   "file_extension": ".py",
   "mimetype": "text/x-python",
   "name": "python",
   "nbconvert_exporter": "python",
   "pygments_lexer": "ipython3",
   "version": "3.7.3"
  }
 },
 "nbformat": 4,
 "nbformat_minor": 4
}
