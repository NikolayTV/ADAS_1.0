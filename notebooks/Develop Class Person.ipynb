{
 "cells": [
  {
   "cell_type": "code",
   "execution_count": null,
   "metadata": {},
   "outputs": [],
   "source": [
    "from scipy.spatial import distance as dist\n",
    "import numpy as np\n",
    "from collections import OrderedDict\n",
    "\n",
    "\n",
    "class PersonTracker():\n",
    "    \n",
    "\n",
    "\n",
    "    def __init__(self, maxDisappeared=200):\n",
    "        self.person_ID = 0\n",
    "        self.objects = OrderedDict()\n",
    "        self.disappeared = OrderedDict()\n",
    "        self.maxDisappeared = maxDisappeared\n",
    "\n",
    "    def register(self, centroid):\n",
    "        self.objects[self.person_ID] = centroid\n",
    "        self.disappeared[self.person_ID] = 0\n",
    "        self.person_ID += 1\n",
    "\n",
    "    def deregister(self, objectID):\n",
    "        del self.objects[objectID]\n",
    "        del self.disappeared[objectID]\n",
    "\n",
    "    def update(self, rects, tracked_persons):\n",
    "#         Обработка если не ббоксов\n",
    "#         if len(rects) == 0:\n",
    "#             for objectID in self.objects.keys():\n",
    "#                 self.disappeared[objectID] += 1\n",
    "\n",
    "#                 if self.disappeared[objectID] > self.maxDisappeared:\n",
    "#                     self.deregister(objectID)\n",
    "\n",
    "#             return self.objects\n",
    "\n",
    "        inputCentroids = np.zeros((len(rects), 2), dtype=\"int\")\n",
    "        \n",
    "        tracked_persons = []\n",
    "        for (i, (startX, startY, endX, endY)) in enumerate(rects):\n",
    "            cX = int((startX + endX) / 2.0)\n",
    "            cY = int((startY + endY) / 2.0)\n",
    "            inputCentroids[i] = (cX, cY)\n",
    "            tracked_persons.append(Person.current_face_centroid = (cX, cY))\n",
    "            \n",
    "        if len(self.objects) == 0:\n",
    "            for i in range(0, len(inputCentroids)):\n",
    "                self.register(inputCentroids[i])\n",
    "        else:\n",
    "            objectIDs = list(self.objects.keys())\n",
    "            objectCentroids = list(self.objects.values())\n",
    "\n",
    "            D = dist.cdist(np.array(objectCentroids), inputCentroids)\n",
    "            rows = D.min(axis=1).argsort()\n",
    "            cols = D.argmin(axis=1)[rows]\n",
    "\n",
    "            usedRows = set()\n",
    "            usedCols = set()\n",
    "\n",
    "            for (row, col) in zip(rows, cols):\n",
    "                if row in usedRows or col in usedCols:\n",
    "                    continue\n",
    "\n",
    "                objectID = objectIDs[row]\n",
    "                self.objects[objectID] = inputCentroids[col]\n",
    "                self.disappeared[objectID] = 0\n",
    "\n",
    "                usedRows.add(row)\n",
    "                usedCols.add(col)\n",
    "\n",
    "\n",
    "            unusedRows = set(range(0, D.shape[0])).difference(usedRows)\n",
    "            unusedCols = set(range(0, D.shape[1])).difference(usedCols)\n",
    "\n",
    "            if D.shape[0] >= D.shape[1]:\n",
    "                for row in unusedRows:\n",
    "                    objectID = objectIDs[row]\n",
    "                    self.disappeared[objectID] += 1\n",
    "\n",
    "                    if self.disappeared[objectID] > self.maxDisappeared:\n",
    "                        self.deregister(objectID)\n",
    "            else:\n",
    "                for col in unusedCols:\n",
    "                    self.register(inputCentroids[col])\n",
    "\n",
    "        return self.objects\n",
    "\n",
    "\n"
   ]
  },
  {
   "cell_type": "code",
   "execution_count": 164,
   "metadata": {},
   "outputs": [],
   "source": [
    "import numpy as np\n",
    "\n",
    "class Person:\n",
    "    def __init__(self, person_ID):\n",
    "        self.person_ID = person_ID  # Person face in frame right now\n",
    "        self.present = False  # Person face in frame right now\n",
    "        self.current_face_centroid = (None, None)  # Centroid coords in frame\n",
    "        self.current_face_bbox = (None, None)  # Centroid coords in frame\n",
    "        self.present_time = None  # time.time()\n",
    "        self.last_face_centroid = (None, None)  # Last centroid coords when person was detected\n",
    "        self.gone_frames = 0\n",
    "        # Emotions\n",
    "        self.looking = 0\n",
    "        self.positive = 0\n",
    "        self.negative = 0\n",
    "        self.neutral = 0\n",
    "        self.current_sentiment = ''\n",
    "        # Head pose\n",
    "        self.head_pose = (None, None, None)  # yaw pitch roll\n",
    "        # Gaze\n",
    "        self.gaze = (None, None)  # yaw pitch roll\n",
    "\n",
    "\n",
    "rects = [[1225, 622, 1315, 712], [929, 516, 982, 576]]\n",
    "# List of centroids coords (cX, cY) \n",
    "inputCentroids = [(int((startX + endX) / 2), int((startY + endY) / 2.0)) for startX, startY, endX, endY in rects]\n",
    "\n",
    "tracked_persons = []\n",
    "if len(tracked_persons) == 0:\n",
    "    tracked_persons = [Person(num) for num in range(len(rects))]\n",
    "    for num in range(len(rects)):\n",
    "        tracked_persons[num].current_face_centroid = inputCentroids[num]\n",
    "        tracked_persons[num].last_face_centroid = inputCentroids[num]\n",
    "        tracked_persons[num].current_face_bbox = rects[num]\n",
    "        tracked_persons[num].gone_frames = 0\n"
   ]
  },
  {
   "cell_type": "code",
   "execution_count": 165,
   "metadata": {},
   "outputs": [
    {
     "name": "stdout",
     "output_type": "stream",
     "text": [
      "0\n",
      "[1225, 622, 1315, 712]\n",
      "(1270, 667)\n",
      "(1270, 667)\n",
      "0\n"
     ]
    }
   ],
   "source": [
    "num = 0\n",
    "print(tracked_persons[num].person_ID)\n",
    "print(tracked_persons[num].current_face_bbox)\n",
    "print(tracked_persons[num].current_face_centroid)\n",
    "print(tracked_persons[num].last_face_centroid)\n",
    "print(tracked_persons[num].gone_frames)"
   ]
  },
  {
   "cell_type": "markdown",
   "metadata": {},
   "source": [
    "### New frame"
   ]
  },
  {
   "cell_type": "code",
   "execution_count": 166,
   "metadata": {
    "scrolled": true
   },
   "outputs": [],
   "source": [
    "from scipy.spatial import distance as dist"
   ]
  },
  {
   "cell_type": "code",
   "execution_count": 167,
   "metadata": {},
   "outputs": [],
   "source": [
    "rects = [[1236, 628, 1321, 711], [521, 519, 571, 574], [930, 515, 983, 577]]\n",
    "inputCentroids = [(int((startX + endX) / 2), int((startY + endY) / 2.0)) for startX, startY, endX, endY in rects]\n",
    "\n",
    "maxDisappeared = 400\n",
    "\n",
    "if len(tracked_persons) != 0:\n",
    "    objectIDs = [person.person_ID for person in tracked_persons]\n",
    "    objectCentroids = [person.last_face_centroid for person in tracked_persons]\n",
    "\n",
    "    D = dist.cdist(np.array(objectCentroids), inputCentroids)\n",
    "    rows = D.min(axis=1).argsort()   # Индексы строчек по возрастанию с наименьшими расстояниями\n",
    "    cols = D.argmin(axis=1)[rows]   # Индексы колонок с наименьшими значениями по возрастанию \n",
    "\n",
    "    usedRows = set()\n",
    "    usedCols = set()\n",
    "\n",
    "    for (row, col) in zip(rows, cols):\n",
    "        if row in usedRows or col in usedCols:\n",
    "            continue\n",
    "        \n",
    "        # Check if the distance is too big to consider this as the same object\n",
    "        if D[1, 2] > 100:\n",
    "            continue\n",
    "\n",
    "        objectID = objectIDs[row]\n",
    "        tracked_persons[objectID].current_face_centroid = inputCentroids[col]\n",
    "        tracked_persons[objectID].last_face_centroid = inputCentroids[col]\n",
    "        tracked_persons[objectID].gone_frames = 0\n",
    "\n",
    "        usedRows.add(row)\n",
    "        usedCols.add(col)\n",
    "\n",
    "    unusedRows = set(range(0, D.shape[0])).difference(usedRows)\n",
    "    unusedCols = set(range(0, D.shape[1])).difference(usedCols)\n",
    "\n",
    "    \n",
    "    # Если новых МЕНЬШЕ чем старых УДАЛИТЬ объект\n",
    "    if D.shape[0] >= D.shape[1]:\n",
    "        for row in unusedRows:\n",
    "            objectID = objectIDs[row]\n",
    "            tracked_persons[objectID].gone_frames += 1\n",
    "\n",
    "            if tracked_persons[objectID].gone_frames > maxDisappeared:\n",
    "                del tracked_persons[objectID]\n",
    "              \n",
    "            \n",
    "    # Если новых БОЛЬШЕ чем старых ДОБАВИТЬ объект\n",
    "    else:\n",
    "        for col in unusedCols:\n",
    "            new_person_list_id = len(tracked_persons)\n",
    "            tracked_persons.append(Person(new_person_list_id))\n",
    "            tracked_persons[new_person_list_id].current_face_bbox = rects[col]\n",
    "            tracked_persons[new_person_list_id].current_face_centroid = inputCentroids[col]\n",
    "            tracked_persons[new_person_list_id].last_face_centroid = inputCentroids[col]\n",
    "            tracked_persons[new_person_list_id].gone_frames = 0\n",
    "\n",
    "            "
   ]
  },
  {
   "cell_type": "code",
   "execution_count": 179,
   "metadata": {
    "scrolled": true
   },
   "outputs": [
    {
     "data": {
      "text/plain": [
       "array([  8.24621125, 409.        ,   1.        ])"
      ]
     },
     "execution_count": 179,
     "metadata": {},
     "output_type": "execute_result"
    }
   ],
   "source": [
    "D.min(axis=0)"
   ]
  },
  {
   "cell_type": "code",
   "execution_count": 186,
   "metadata": {},
   "outputs": [
    {
     "name": "stdout",
     "output_type": "stream",
     "text": [
      "1 2\n",
      "0 0\n"
     ]
    }
   ],
   "source": [
    "for (row, col) in zip(rows, cols):\n",
    "    print(row, col)"
   ]
  },
  {
   "cell_type": "code",
   "execution_count": null,
   "metadata": {},
   "outputs": [],
   "source": []
  },
  {
   "cell_type": "code",
   "execution_count": 162,
   "metadata": {},
   "outputs": [
    {
     "data": {
      "text/plain": [
       "array([0., 0., 0.])"
      ]
     },
     "execution_count": 162,
     "metadata": {},
     "output_type": "execute_result"
    }
   ],
   "source": [
    "D.min(axis=1)"
   ]
  },
  {
   "cell_type": "code",
   "execution_count": 163,
   "metadata": {},
   "outputs": [
    {
     "data": {
      "text/plain": [
       "0.0"
      ]
     },
     "execution_count": 163,
     "metadata": {},
     "output_type": "execute_result"
    }
   ],
   "source": [
    "min(D[:,col])"
   ]
  },
  {
   "cell_type": "code",
   "execution_count": 161,
   "metadata": {},
   "outputs": [
    {
     "data": {
      "text/plain": [
       "array([0, 2, 1])"
      ]
     },
     "execution_count": 161,
     "metadata": {},
     "output_type": "execute_result"
    }
   ],
   "source": [
    "D.argmin(axis=1)[rows]"
   ]
  },
  {
   "cell_type": "code",
   "execution_count": 147,
   "metadata": {},
   "outputs": [
    {
     "data": {
      "text/plain": [
       "409.0"
      ]
     },
     "execution_count": 147,
     "metadata": {},
     "output_type": "execute_result"
    }
   ],
   "source": [
    "# Обработка исключения, если расстояние до ближайшего незанятого лица больше 100, \n",
    "# то не считать это тем же лицом\n",
    "if min(D[:,col]) > 100:\n",
    "    contunue "
   ]
  },
  {
   "cell_type": "code",
   "execution_count": 141,
   "metadata": {},
   "outputs": [
    {
     "data": {
      "text/plain": [
       "array([[  8.24621125, 734.04155196, 336.50705788],\n",
       "       [345.62696654, 409.        ,   1.        ]])"
      ]
     },
     "execution_count": 141,
     "metadata": {},
     "output_type": "execute_result"
    }
   ],
   "source": [
    "D"
   ]
  },
  {
   "cell_type": "code",
   "execution_count": 138,
   "metadata": {},
   "outputs": [
    {
     "name": "stdout",
     "output_type": "stream",
     "text": [
      "2\n",
      "[521, 519, 571, 574]\n",
      "(546, 546)\n",
      "(546, 546)\n",
      "0\n"
     ]
    }
   ],
   "source": [
    "num = 2\n",
    "print(tracked_persons[num].person_ID)\n",
    "print(tracked_persons[num].current_face_bbox)\n",
    "print(tracked_persons[num].current_face_centroid)\n",
    "print(tracked_persons[num].last_face_centroid)\n",
    "print(tracked_persons[num].gone_frames)"
   ]
  },
  {
   "cell_type": "code",
   "execution_count": 140,
   "metadata": {},
   "outputs": [
    {
     "data": {
      "text/plain": [
       "[<__main__.Person at 0x7fad48a12320>,\n",
       " <__main__.Person at 0x7fad48a97f60>,\n",
       " <__main__.Person at 0x7fad48a384a8>]"
      ]
     },
     "execution_count": 140,
     "metadata": {},
     "output_type": "execute_result"
    }
   ],
   "source": [
    "tracked_persons"
   ]
  },
  {
   "cell_type": "code",
   "execution_count": null,
   "metadata": {},
   "outputs": [],
   "source": []
  },
  {
   "cell_type": "code",
   "execution_count": null,
   "metadata": {},
   "outputs": [],
   "source": []
  },
  {
   "cell_type": "code",
   "execution_count": null,
   "metadata": {},
   "outputs": [],
   "source": []
  },
  {
   "cell_type": "code",
   "execution_count": null,
   "metadata": {},
   "outputs": [],
   "source": []
  },
  {
   "cell_type": "code",
   "execution_count": null,
   "metadata": {},
   "outputs": [],
   "source": []
  },
  {
   "cell_type": "code",
   "execution_count": null,
   "metadata": {},
   "outputs": [],
   "source": []
  },
  {
   "cell_type": "code",
   "execution_count": null,
   "metadata": {},
   "outputs": [],
   "source": []
  },
  {
   "cell_type": "code",
   "execution_count": null,
   "metadata": {},
   "outputs": [],
   "source": []
  },
  {
   "cell_type": "code",
   "execution_count": null,
   "metadata": {},
   "outputs": [],
   "source": []
  }
 ],
 "metadata": {
  "kernelspec": {
   "display_name": "Python 3",
   "language": "python",
   "name": "python3"
  },
  "language_info": {
   "codemirror_mode": {
    "name": "ipython",
    "version": 3
   },
   "file_extension": ".py",
   "mimetype": "text/x-python",
   "name": "python",
   "nbconvert_exporter": "python",
   "pygments_lexer": "ipython3",
   "version": "3.7.3"
  }
 },
 "nbformat": 4,
 "nbformat_minor": 4
}
