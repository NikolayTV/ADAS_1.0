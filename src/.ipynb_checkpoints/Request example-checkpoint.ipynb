{
 "cells": [
  {
   "cell_type": "code",
   "execution_count": 1,
   "metadata": {
    "scrolled": true
   },
   "outputs": [
    {
     "name": "stdout",
     "output_type": "stream",
     "text": [
      "{'faces': [], 'faces_num': 0, 'success': True}\n",
      "{'faces': [], 'faces_num': 0, 'success': True}\n",
      "fps 1.129019788984968\n",
      "***\n",
      "{'faces': [{'bbox': {'xmax': 1033, 'xmin': 977, 'ymax': 532, 'ymin': 474}, 'confidence': 0.844, 'emotion': 'neutral', 'eye_gaze': {'x_coord': 0.31, 'y_coord': -0.2}, 'head_pose': {'pitch': -21.25, 'roll': -2.67, 'yaw': 0.54}, 'landmarks': {'left_eye1': [999, 492], 'left_eye2': [992, 493], 'right_eye1': [1011, 491], 'right_eye2': [1018, 491]}}], 'faces_num': 1, 'success': True}\n",
      "{'faces': [{'bbox': {'xmax': 1033, 'xmin': 977, 'ymax': 532, 'ymin': 474}, 'confidence': 0.844, 'emotion': 'neutral', 'eye_gaze': {'x_coord': 0.31, 'y_coord': -0.2}, 'head_pose': {'pitch': -21.25, 'roll': -2.67, 'yaw': 0.54}, 'landmarks': {'left_eye1': [999, 492], 'left_eye2': [992, 493], 'right_eye1': [1011, 491], 'right_eye2': [1018, 491]}}], 'faces_num': 1, 'success': True}\n",
      "fps 1.2732637632447477\n",
      "***\n",
      "{'faces': [{'bbox': {'xmax': 1082, 'xmin': 994, 'ymax': 565, 'ymin': 463}, 'confidence': 0.809, 'emotion': 'neutral', 'eye_gaze': {'x_coord': 0.09, 'y_coord': -0.12}, 'head_pose': {'pitch': -28.78, 'roll': -1.92, 'yaw': -2.11}, 'landmarks': {'left_eye1': [1030, 502], 'left_eye2': [1016, 502], 'right_eye1': [1054, 501], 'right_eye2': [1068, 500]}}], 'faces_num': 1, 'success': True}\n",
      "{'faces': [{'bbox': {'xmax': 1082, 'xmin': 994, 'ymax': 565, 'ymin': 463}, 'confidence': 0.809, 'emotion': 'neutral', 'eye_gaze': {'x_coord': 0.09, 'y_coord': -0.12}, 'head_pose': {'pitch': -28.78, 'roll': -1.92, 'yaw': -2.11}, 'landmarks': {'left_eye1': [1030, 502], 'left_eye2': [1016, 502], 'right_eye1': [1054, 501], 'right_eye2': [1068, 500]}}], 'faces_num': 1, 'success': True}\n",
      "fps 1.3269259120293535\n",
      "***\n",
      "{'faces': [], 'faces_num': 0, 'success': True}\n",
      "{'faces': [], 'faces_num': 0, 'success': True}\n",
      "fps 1.319180896474765\n",
      "***\n",
      "{'faces': [], 'faces_num': 0, 'success': True}\n",
      "{'faces': [], 'faces_num': 0, 'success': True}\n",
      "fps 1.2255102708666423\n",
      "***\n",
      "{'faces': [], 'faces_num': 0, 'success': True}\n",
      "{'faces': [], 'faces_num': 0, 'success': True}\n",
      "fps 1.3307507091904933\n",
      "***\n",
      "{'faces': [{'bbox': {'xmax': 1119, 'xmin': 1035, 'ymax': 529, 'ymin': 446}, 'confidence': 0.996, 'emotion': 'neutral', 'eye_gaze': {'x_coord': 0.3, 'y_coord': -0.1}, 'head_pose': {'pitch': -8.77, 'roll': 4.07, 'yaw': 11.96}, 'landmarks': {'left_eye1': [1071, 476], 'left_eye2': [1059, 475], 'right_eye1': [1089, 475], 'right_eye2': [1100, 474]}}, {'bbox': {'xmax': 834, 'xmin': 757, 'ymax': 542, 'ymin': 462}, 'confidence': 0.973, 'emotion': 'neutral', 'eye_gaze': {'x_coord': 0.04, 'y_coord': -0.07}, 'head_pose': {'pitch': -10.55, 'roll': 0.62, 'yaw': -1.26}, 'landmarks': {'left_eye1': [786, 493], 'left_eye2': [774, 493], 'right_eye1': [804, 493], 'right_eye2': [816, 492]}}], 'faces_num': 2, 'success': True}\n",
      "{'faces': [{'bbox': {'xmax': 1119, 'xmin': 1035, 'ymax': 529, 'ymin': 446}, 'confidence': 0.996, 'emotion': 'neutral', 'eye_gaze': {'x_coord': 0.3, 'y_coord': -0.1}, 'head_pose': {'pitch': -8.77, 'roll': 4.07, 'yaw': 11.96}, 'landmarks': {'left_eye1': [1071, 476], 'left_eye2': [1059, 475], 'right_eye1': [1089, 475], 'right_eye2': [1100, 474]}}, {'bbox': {'xmax': 834, 'xmin': 757, 'ymax': 542, 'ymin': 462}, 'confidence': 0.973, 'emotion': 'neutral', 'eye_gaze': {'x_coord': 0.04, 'y_coord': -0.07}, 'head_pose': {'pitch': -10.55, 'roll': 0.62, 'yaw': -1.26}, 'landmarks': {'left_eye1': [786, 493], 'left_eye2': [774, 493], 'right_eye1': [804, 493], 'right_eye2': [816, 492]}}], 'faces_num': 2, 'success': True}\n",
      "fps 1.3214689107115345\n",
      "***\n",
      "{'faces': [{'bbox': {'xmax': 1393, 'xmin': 1209, 'ymax': 691, 'ymin': 467}, 'confidence': 0.999, 'emotion': 'neutral', 'eye_gaze': {'x_coord': 0.45, 'y_coord': -0.32}, 'head_pose': {'pitch': 2.79, 'roll': 7.96, 'yaw': 43.0}, 'landmarks': {'left_eye1': [1340, 560], 'left_eye2': [1315, 558], 'right_eye1': [1379, 560], 'right_eye2': [1395, 559]}}], 'faces_num': 1, 'success': True}\n",
      "{'faces': [{'bbox': {'xmax': 1393, 'xmin': 1209, 'ymax': 691, 'ymin': 467}, 'confidence': 0.999, 'emotion': 'neutral', 'eye_gaze': {'x_coord': 0.45, 'y_coord': -0.32}, 'head_pose': {'pitch': 2.79, 'roll': 7.96, 'yaw': 43.0}, 'landmarks': {'left_eye1': [1340, 560], 'left_eye2': [1315, 558], 'right_eye1': [1379, 560], 'right_eye2': [1395, 559]}}], 'faces_num': 1, 'success': True}\n",
      "fps 1.397176402554842\n",
      "***\n",
      "{'faces': [], 'faces_num': 0, 'success': True}\n",
      "{'faces': [], 'faces_num': 0, 'success': True}\n",
      "fps 1.360282752255136\n",
      "***\n",
      "{'faces': [], 'faces_num': 0, 'success': True}\n",
      "{'faces': [], 'faces_num': 0, 'success': True}\n",
      "fps 1.3404203642202093\n",
      "***\n",
      "{'faces': [], 'faces_num': 0, 'success': True}\n",
      "{'faces': [], 'faces_num': 0, 'success': True}\n",
      "fps 1.34240065546907\n",
      "***\n",
      "{'faces': [{'bbox': {'xmax': 911, 'xmin': 863, 'ymax': 518, 'ymin': 459}, 'confidence': 0.952, 'emotion': 'sad', 'head_pose': {'pitch': -60.49, 'roll': -36.88, 'yaw': -21.57}, 'landmarks': {'left_eye1': [882, 484], 'left_eye2': [881, 488], 'right_eye1': [883, 478], 'right_eye2': [884, 476]}}], 'faces_num': 1, 'success': True}\n",
      "{'faces': [{'bbox': {'xmax': 911, 'xmin': 863, 'ymax': 518, 'ymin': 459}, 'confidence': 0.952, 'emotion': 'sad', 'head_pose': {'pitch': -60.49, 'roll': -36.88, 'yaw': -21.57}, 'landmarks': {'left_eye1': [882, 484], 'left_eye2': [881, 488], 'right_eye1': [883, 478], 'right_eye2': [884, 476]}}], 'faces_num': 1, 'success': True}\n",
      "fps 1.3401963625604267\n",
      "***\n",
      "{'faces': [{'bbox': {'xmax': 698, 'xmin': 608, 'ymax': 546, 'ymin': 459}, 'confidence': 0.984, 'emotion': 'neutral', 'eye_gaze': {'x_coord': -0.25, 'y_coord': 0.14}, 'head_pose': {'pitch': -37.39, 'roll': -1.45, 'yaw': -10.81}, 'landmarks': {'left_eye1': [639, 489], 'left_eye2': [629, 489], 'right_eye1': [655, 489], 'right_eye2': [665, 488]}}, {'bbox': {'xmax': 1092, 'xmin': 1010, 'ymax': 593, 'ymin': 506}, 'confidence': 0.975, 'emotion': 'neutral', 'eye_gaze': {'x_coord': 0.05, 'y_coord': -0.14}, 'head_pose': {'pitch': 2.04, 'roll': 2.53, 'yaw': 5.58}, 'landmarks': {'left_eye1': [1047, 538], 'left_eye2': [1034, 537], 'right_eye1': [1067, 538], 'right_eye2': [1079, 537]}}], 'faces_num': 2, 'success': True}\n",
      "{'faces': [{'bbox': {'xmax': 698, 'xmin': 608, 'ymax': 546, 'ymin': 459}, 'confidence': 0.984, 'emotion': 'neutral', 'eye_gaze': {'x_coord': -0.25, 'y_coord': 0.14}, 'head_pose': {'pitch': -37.39, 'roll': -1.45, 'yaw': -10.81}, 'landmarks': {'left_eye1': [639, 489], 'left_eye2': [629, 489], 'right_eye1': [655, 489], 'right_eye2': [665, 488]}}, {'bbox': {'xmax': 1092, 'xmin': 1010, 'ymax': 593, 'ymin': 506}, 'confidence': 0.975, 'emotion': 'neutral', 'eye_gaze': {'x_coord': 0.05, 'y_coord': -0.14}, 'head_pose': {'pitch': 2.04, 'roll': 2.53, 'yaw': 5.58}, 'landmarks': {'left_eye1': [1047, 538], 'left_eye2': [1034, 537], 'right_eye1': [1067, 538], 'right_eye2': [1079, 537]}}], 'faces_num': 2, 'success': True}\n",
      "fps 1.3041868390531184\n",
      "***\n",
      "{'faces': [{'bbox': {'xmax': 812, 'xmin': 716, 'ymax': 572, 'ymin': 475}, 'confidence': 0.992, 'emotion': 'neutral', 'eye_gaze': {'x_coord': -0.49, 'y_coord': -0.11}, 'head_pose': {'pitch': -23.1, 'roll': -3.24, 'yaw': -27.27}, 'landmarks': {'left_eye1': [740, 507], 'left_eye2': [731, 507], 'right_eye1': [759, 507], 'right_eye2': [771, 507]}}, {'bbox': {'xmax': 442, 'xmin': 329, 'ymax': 566, 'ymin': 440}, 'confidence': 0.979, 'emotion': 'neutral', 'eye_gaze': {'x_coord': -0.72, 'y_coord': -0.21}, 'head_pose': {'pitch': -55.38, 'roll': -46.76, 'yaw': -46.6}, 'landmarks': {'left_eye1': [377, 483], 'left_eye2': [364, 486], 'right_eye1': [400, 479], 'right_eye2': [412, 477]}}, {'bbox': {'xmax': 1262, 'xmin': 1173, 'ymax': 651, 'ymin': 551}, 'confidence': 0.691, 'emotion': 'neutral', 'eye_gaze': {'x_coord': 0.17, 'y_coord': -0.23}, 'head_pose': {'pitch': 15.57, 'roll': 5.46, 'yaw': 41.1}, 'landmarks': {'left_eye1': [1231, 591], 'left_eye2': [1219, 591], 'right_eye1': [1249, 590], 'right_eye2': [1257, 588]}}], 'faces_num': 3, 'success': True}\n",
      "{'faces': [{'bbox': {'xmax': 812, 'xmin': 716, 'ymax': 572, 'ymin': 475}, 'confidence': 0.992, 'emotion': 'neutral', 'eye_gaze': {'x_coord': -0.49, 'y_coord': -0.11}, 'head_pose': {'pitch': -23.1, 'roll': -3.24, 'yaw': -27.27}, 'landmarks': {'left_eye1': [740, 507], 'left_eye2': [731, 507], 'right_eye1': [759, 507], 'right_eye2': [771, 507]}}, {'bbox': {'xmax': 442, 'xmin': 329, 'ymax': 566, 'ymin': 440}, 'confidence': 0.979, 'emotion': 'neutral', 'eye_gaze': {'x_coord': -0.72, 'y_coord': -0.21}, 'head_pose': {'pitch': -55.38, 'roll': -46.76, 'yaw': -46.6}, 'landmarks': {'left_eye1': [377, 483], 'left_eye2': [364, 486], 'right_eye1': [400, 479], 'right_eye2': [412, 477]}}, {'bbox': {'xmax': 1262, 'xmin': 1173, 'ymax': 651, 'ymin': 551}, 'confidence': 0.691, 'emotion': 'neutral', 'eye_gaze': {'x_coord': 0.17, 'y_coord': -0.23}, 'head_pose': {'pitch': 15.57, 'roll': 5.46, 'yaw': 41.1}, 'landmarks': {'left_eye1': [1231, 591], 'left_eye2': [1219, 591], 'right_eye1': [1249, 590], 'right_eye2': [1257, 588]}}], 'faces_num': 3, 'success': True}\n",
      "fps 1.3265805137106423\n",
      "***\n"
     ]
    },
    {
     "name": "stdout",
     "output_type": "stream",
     "text": [
      "{'faces': [], 'faces_num': 0, 'success': True}\n",
      "{'faces': [], 'faces_num': 0, 'success': True}\n",
      "fps 1.4272918300781483\n",
      "***\n",
      "{'faces': [], 'faces_num': 0, 'success': True}\n",
      "{'faces': [], 'faces_num': 0, 'success': True}\n",
      "fps 1.4115239854186747\n",
      "***\n",
      "{'faces': [], 'faces_num': 0, 'success': True}\n",
      "{'faces': [], 'faces_num': 0, 'success': True}\n",
      "fps 1.3698710311239313\n",
      "***\n",
      "{'faces': [], 'faces_num': 0, 'success': True}\n",
      "{'faces': [], 'faces_num': 0, 'success': True}\n",
      "fps 1.3455961707506432\n",
      "***\n",
      "{'faces': [{'bbox': {'xmax': 1216, 'xmin': 1110, 'ymax': 521, 'ymin': 390}, 'confidence': 0.944, 'emotion': 'neutral', 'eye_gaze': {'x_coord': 0.6, 'y_coord': -0.32}, 'head_pose': {'pitch': -12.47, 'roll': 8.74, 'yaw': 37.3}, 'landmarks': {'left_eye1': [1187, 445], 'left_eye2': [1172, 445], 'right_eye1': [1212, 444], 'right_eye2': [1222, 444]}}], 'faces_num': 1, 'success': True}\n",
      "{'faces': [{'bbox': {'xmax': 1216, 'xmin': 1110, 'ymax': 521, 'ymin': 390}, 'confidence': 0.944, 'emotion': 'neutral', 'eye_gaze': {'x_coord': 0.6, 'y_coord': -0.32}, 'head_pose': {'pitch': -12.47, 'roll': 8.74, 'yaw': 37.3}, 'landmarks': {'left_eye1': [1187, 445], 'left_eye2': [1172, 445], 'right_eye1': [1212, 444], 'right_eye2': [1222, 444]}}], 'faces_num': 1, 'success': True}\n",
      "fps 1.3747097307907745\n",
      "***\n"
     ]
    },
    {
     "ename": "KeyboardInterrupt",
     "evalue": "",
     "output_type": "error",
     "traceback": [
      "\u001b[0;31m---------------------------------------------------------------------------\u001b[0m",
      "\u001b[0;31mKeyboardInterrupt\u001b[0m                         Traceback (most recent call last)",
      "\u001b[0;32m<ipython-input-1-d91261e97890>\u001b[0m in \u001b[0;36m<module>\u001b[0;34m\u001b[0m\n\u001b[1;32m     20\u001b[0m \u001b[0;32mwhile\u001b[0m\u001b[0;34m(\u001b[0m\u001b[0;32mTrue\u001b[0m\u001b[0;34m)\u001b[0m\u001b[0;34m:\u001b[0m\u001b[0;34m\u001b[0m\u001b[0;34m\u001b[0m\u001b[0m\n\u001b[1;32m     21\u001b[0m     \u001b[0;31m# read one frame\u001b[0m\u001b[0;34m\u001b[0m\u001b[0;34m\u001b[0m\u001b[0;34m\u001b[0m\u001b[0m\n\u001b[0;32m---> 22\u001b[0;31m     \u001b[0mret\u001b[0m\u001b[0;34m,\u001b[0m \u001b[0mframe\u001b[0m \u001b[0;34m=\u001b[0m \u001b[0mcap\u001b[0m\u001b[0;34m.\u001b[0m\u001b[0mread\u001b[0m\u001b[0;34m(\u001b[0m\u001b[0;34m)\u001b[0m\u001b[0;34m\u001b[0m\u001b[0;34m\u001b[0m\u001b[0m\n\u001b[0m\u001b[1;32m     23\u001b[0m     \u001b[0mcount\u001b[0m \u001b[0;34m+=\u001b[0m \u001b[0;36m1\u001b[0m\u001b[0;34m\u001b[0m\u001b[0;34m\u001b[0m\u001b[0m\n\u001b[1;32m     24\u001b[0m     \u001b[0;32mif\u001b[0m \u001b[0mcount\u001b[0m \u001b[0;34m%\u001b[0m \u001b[0;36m100\u001b[0m \u001b[0;34m==\u001b[0m \u001b[0;36m0\u001b[0m\u001b[0;34m:\u001b[0m\u001b[0;34m\u001b[0m\u001b[0;34m\u001b[0m\u001b[0m\n",
      "\u001b[0;31mKeyboardInterrupt\u001b[0m: "
     ]
    }
   ],
   "source": [
    "import cv2\n",
    "import sys\n",
    "import time \n",
    "import base64\n",
    "import requests\n",
    "\n",
    "VIDEO_URL = \"data/sd\"\n",
    "\n",
    "cap = cv2.VideoCapture(VIDEO_URL)\n",
    "fps = cap.get(cv2.CAP_PROP_FPS)\n",
    "\n",
    "url = 'http://0.0.0.0:7777/'\n",
    "\n",
    "# prepare headers for http request\n",
    "content_type = 'image/jpeg'\n",
    "headers = {'content-type': content_type}\n",
    "\n",
    "wait_ms = 1\n",
    "count = 0\n",
    "while(True):\n",
    "    # read one frame\n",
    "    ret, frame = cap.read()\n",
    "    count += 1\n",
    "    if count % 15 == 0:\n",
    "        if ret:\n",
    "\n",
    "            # TODO: perform frame processing here\n",
    "\n",
    "            # encode image as jpeg\n",
    "            retval, buffer = cv2.imencode('.jpg', frame)\n",
    "            frame_encoded = base64.b64encode(buffer)\n",
    "\n",
    "            frame_start_time = time.time()\n",
    "            response = requests.post(url, data={\"image\":frame_encoded})\n",
    "            print(response.json())\n",
    "            for num in range(len(response.json()['faces'])):\n",
    "                xmax, xmin, ymax, ymin = response.json()['faces'][num]['bbox'].values()\n",
    "                cv2.rectangle(frame, (xmin, ymin), (xmax, ymax), (255,0,0), 2)\n",
    "\n",
    "            cv2.imshow('img', frame)\n",
    "\n",
    "            print(response.json())\n",
    "            if cv2.waitKey(1) & 0xFF == ord('q'):\n",
    "                cv2.destroyAllWindows()\n",
    "                cam.release()\n",
    "                break\n",
    "\n",
    "            now = time.time()\n",
    "            frame_time = now - frame_start_time\n",
    "            fps = 1.0 / frame_time\n",
    "            print('fps', fps)\n",
    "            print(\"***\")"
   ]
  },
  {
   "cell_type": "code",
   "execution_count": 12,
   "metadata": {},
   "outputs": [
    {
     "data": {
      "text/plain": [
       "(32673, 1)"
      ]
     },
     "execution_count": 12,
     "metadata": {},
     "output_type": "execute_result"
    }
   ],
   "source": [
    "buffer.shape"
   ]
  },
  {
   "cell_type": "code",
   "execution_count": 1,
   "metadata": {
    "scrolled": true
   },
   "outputs": [
    {
     "name": "stdout",
     "output_type": "stream",
     "text": [
      "{'faces': [{'bbox': {'xmax': 319, 'xmin': 170, 'ymax': 259, 'ymin': 37}, 'confidence': 1.0, 'emotion': 'sad', 'eye_gaze': {'x_coord': 0.2, 'y_coord': 0.03}, 'head_pose': {'pitch': 13.23, 'roll': -2.32, 'yaw': -13.91}, 'landmarks': {'left_eye1': [231, 139], 'left_eye2': [203, 138], 'right_eye1': [279, 134], 'right_eye2': [311, 129]}}], 'faces_num': 1, 'success': True}\n",
      "FPS 1.2754564200466296\n",
      "{'faces': [{'bbox': {'xmax': 353, 'xmin': 210, 'ymax': 247, 'ymin': 24}, 'confidence': 0.999, 'emotion': 'anger', 'head_pose': {'pitch': 27.0, 'roll': -1.85, 'yaw': -6.14}, 'landmarks': {'left_eye1': [328, 131], 'left_eye2': [320, 138], 'right_eye1': [340, 119], 'right_eye2': [343, 113]}}], 'faces_num': 1, 'success': True}\n",
      "FPS 1.383409524186473\n",
      "{'faces': [{'bbox': {'xmax': 352, 'xmin': 214, 'ymax': 230, 'ymin': 28}, 'confidence': 0.999, 'emotion': 'neutral', 'eye_gaze': {'x_coord': 0.13, 'y_coord': -0.24}, 'head_pose': {'pitch': 38.44, 'roll': 2.72, 'yaw': -5.64}, 'landmarks': {'left_eye1': [314, 123], 'left_eye2': [307, 131], 'right_eye1': [325, 109], 'right_eye2': [329, 102]}}], 'faces_num': 1, 'success': True}\n",
      "FPS 1.3490911020799392\n",
      "{'faces': [{'bbox': {'xmax': 352, 'xmin': 217, 'ymax': 225, 'ymin': 29}, 'confidence': 0.998, 'emotion': 'anger', 'eye_gaze': {'x_coord': 0.05, 'y_coord': -0.25}, 'head_pose': {'pitch': 46.76, 'roll': 4.32, 'yaw': -6.29}, 'landmarks': {'left_eye1': [315, 127], 'left_eye2': [307, 131], 'right_eye1': [329, 119], 'right_eye2': [334, 114]}}], 'faces_num': 1, 'success': True}\n",
      "FPS 1.382000110710153\n",
      "{'faces': [{'bbox': {'xmax': 352, 'xmin': 217, 'ymax': 224, 'ymin': 29}, 'confidence': 0.998, 'emotion': 'neutral', 'eye_gaze': {'x_coord': 0.15, 'y_coord': -0.28}, 'head_pose': {'pitch': 43.98, 'roll': 3.61, 'yaw': -5.18}, 'landmarks': {'left_eye1': [310, 128], 'left_eye2': [300, 131], 'right_eye1': [325, 120], 'right_eye2': [332, 116]}}], 'faces_num': 1, 'success': True}\n",
      "FPS 1.4020963732662266\n",
      "{'faces': [{'bbox': {'xmax': 352, 'xmin': 217, 'ymax': 228, 'ymin': 29}, 'confidence': 0.997, 'emotion': 'sad', 'eye_gaze': {'x_coord': 0.01, 'y_coord': -0.25}, 'head_pose': {'pitch': 37.17, 'roll': 5.35, 'yaw': -8.0}, 'landmarks': {'left_eye1': [313, 128], 'left_eye2': [302, 131], 'right_eye1': [330, 121], 'right_eye2': [337, 116]}}], 'faces_num': 1, 'success': True}\n",
      "FPS 1.4078847242823715\n",
      "{'faces': [{'bbox': {'xmax': 352, 'xmin': 217, 'ymax': 225, 'ymin': 29}, 'confidence': 0.998, 'emotion': 'sad', 'eye_gaze': {'x_coord': 0.07, 'y_coord': -0.3}, 'head_pose': {'pitch': 44.62, 'roll': 3.51, 'yaw': -5.12}, 'landmarks': {'left_eye1': [314, 126], 'left_eye2': [303, 128], 'right_eye1': [330, 122], 'right_eye2': [338, 120]}}], 'faces_num': 1, 'success': True}\n",
      "FPS 1.3957239502048178\n",
      "{'faces': [{'bbox': {'xmax': 352, 'xmin': 217, 'ymax': 225, 'ymin': 29}, 'confidence': 0.998, 'emotion': 'sad', 'eye_gaze': {'x_coord': 0.07, 'y_coord': -0.3}, 'head_pose': {'pitch': 44.62, 'roll': 3.51, 'yaw': -5.12}, 'landmarks': {'left_eye1': [314, 126], 'left_eye2': [303, 128], 'right_eye1': [330, 122], 'right_eye2': [338, 120]}}], 'faces_num': 1, 'success': True}\n",
      "FPS 1.3693137930246453\n",
      "{'faces': [{'bbox': {'xmax': 352, 'xmin': 217, 'ymax': 225, 'ymin': 29}, 'confidence': 0.998, 'emotion': 'sad', 'eye_gaze': {'x_coord': 0.07, 'y_coord': -0.3}, 'head_pose': {'pitch': 44.62, 'roll': 3.51, 'yaw': -5.12}, 'landmarks': {'left_eye1': [314, 126], 'left_eye2': [303, 128], 'right_eye1': [330, 122], 'right_eye2': [338, 120]}}], 'faces_num': 1, 'success': True}\n",
      "FPS 1.4093607160942099\n",
      "{'faces': [{'bbox': {'xmax': 352, 'xmin': 217, 'ymax': 225, 'ymin': 29}, 'confidence': 0.998, 'emotion': 'sad', 'eye_gaze': {'x_coord': 0.07, 'y_coord': -0.3}, 'head_pose': {'pitch': 44.62, 'roll': 3.51, 'yaw': -5.12}, 'landmarks': {'left_eye1': [314, 126], 'left_eye2': [303, 128], 'right_eye1': [330, 122], 'right_eye2': [338, 120]}}], 'faces_num': 1, 'success': True}\n",
      "FPS 1.389415172811308\n",
      "{'faces': [{'bbox': {'xmax': 352, 'xmin': 217, 'ymax': 225, 'ymin': 29}, 'confidence': 0.998, 'emotion': 'sad', 'eye_gaze': {'x_coord': 0.07, 'y_coord': -0.3}, 'head_pose': {'pitch': 44.62, 'roll': 3.51, 'yaw': -5.12}, 'landmarks': {'left_eye1': [314, 126], 'left_eye2': [303, 128], 'right_eye1': [330, 122], 'right_eye2': [338, 120]}}], 'faces_num': 1, 'success': True}\n",
      "FPS 1.3733130330861287\n",
      "{'faces': [{'bbox': {'xmax': 352, 'xmin': 217, 'ymax': 225, 'ymin': 29}, 'confidence': 0.998, 'emotion': 'sad', 'eye_gaze': {'x_coord': 0.07, 'y_coord': -0.3}, 'head_pose': {'pitch': 44.62, 'roll': 3.51, 'yaw': -5.12}, 'landmarks': {'left_eye1': [314, 126], 'left_eye2': [303, 128], 'right_eye1': [330, 122], 'right_eye2': [338, 120]}}], 'faces_num': 1, 'success': True}\n",
      "FPS 1.3868002977073164\n",
      "{'faces': [{'bbox': {'xmax': 352, 'xmin': 217, 'ymax': 225, 'ymin': 29}, 'confidence': 0.998, 'emotion': 'sad', 'eye_gaze': {'x_coord': 0.07, 'y_coord': -0.3}, 'head_pose': {'pitch': 44.62, 'roll': 3.51, 'yaw': -5.12}, 'landmarks': {'left_eye1': [314, 126], 'left_eye2': [303, 128], 'right_eye1': [330, 122], 'right_eye2': [338, 120]}}], 'faces_num': 1, 'success': True}\n",
      "FPS 1.411882245302314\n",
      "{'faces': [{'bbox': {'xmax': 352, 'xmin': 217, 'ymax': 225, 'ymin': 29}, 'confidence': 0.998, 'emotion': 'sad', 'eye_gaze': {'x_coord': 0.07, 'y_coord': -0.3}, 'head_pose': {'pitch': 44.62, 'roll': 3.51, 'yaw': -5.12}, 'landmarks': {'left_eye1': [314, 126], 'left_eye2': [303, 128], 'right_eye1': [330, 122], 'right_eye2': [338, 120]}}], 'faces_num': 1, 'success': True}\n",
      "FPS 1.4450410845635735\n",
      "{'faces': [{'bbox': {'xmax': 352, 'xmin': 217, 'ymax': 225, 'ymin': 29}, 'confidence': 0.998, 'emotion': 'sad', 'eye_gaze': {'x_coord': 0.07, 'y_coord': -0.3}, 'head_pose': {'pitch': 44.62, 'roll': 3.51, 'yaw': -5.12}, 'landmarks': {'left_eye1': [314, 126], 'left_eye2': [303, 128], 'right_eye1': [330, 122], 'right_eye2': [338, 120]}}], 'faces_num': 1, 'success': True}\n"
     ]
    }
   ],
   "source": [
    "import sys\n",
    "import time \n",
    "import imageio\n",
    "import base64\n",
    "import requests\n",
    "import cv2\n",
    "\n",
    "\n",
    "VIDEO_URL = \"data/petrosyan.mp4\"\n",
    "\n",
    "url = 'http://0.0.0.0:7777/'\n",
    "\n",
    "# prepare headers for http request\n",
    "content_type = 'image/jpeg'\n",
    "headers = {'content-type': content_type}\n",
    "\n",
    "vid = imageio.get_reader(VIDEO_URL,  'ffmpeg')\n",
    "num = 100\n",
    "count = 0\n",
    "while(True):\n",
    "#    ret, frame = cap.read()\n",
    "#    if ret:\n",
    "        frame_start_time = time.time()\n",
    "\n",
    "        # TODO: perform frame processing here\n",
    "\n",
    "        # encode image as jpeg\n",
    "        image = vid.get_data(num)\n",
    "        count += 1\n",
    "        if count % 100 != 0:\n",
    "            continue\n",
    "            \n",
    "        retval, buffer = cv2.imencode('.jpg', image)\n",
    "#         buffer = image\n",
    "        frame_encoded = base64.b64encode(buffer)\n",
    "        response = requests.post(url, data={\"image\":frame_encoded})\n",
    "        for num in range(len(response.json()['faces'])):\n",
    "            xmax, xmin, ymax, ymin = response.json()['faces'][num]['bbox'].values()\n",
    "            cv2.rectangle(image, (xmin, ymin), (xmax, ymax), (255,0,0), 2)\n",
    "            \n",
    "        cv2.imshow('img', image[:,:,[2,1,0]])\n",
    "\n",
    "        print(response.json())\n",
    "        if cv2.waitKey(1) & 0xFF == ord('q'):\n",
    "            break\n",
    "\n",
    "        num += 1\n",
    "        now = time.time()\n",
    "        frame_time = now - frame_start_time\n",
    "        fps = 1.0 / frame_time\n",
    "        print('FPS', fps)\n"
   ]
  },
  {
   "cell_type": "code",
   "execution_count": null,
   "metadata": {},
   "outputs": [],
   "source": []
  },
  {
   "cell_type": "code",
   "execution_count": 29,
   "metadata": {
    "scrolled": true
   },
   "outputs": [
    {
     "name": "stdout",
     "output_type": "stream",
     "text": [
      "FPS 1.284914893577913\n",
      "FPS 1.4144838856974815\n",
      "FPS 1.3730958841864145\n",
      "FPS 1.4642293471874626\n",
      "FPS 1.376817569466146\n"
     ]
    },
    {
     "ename": "KeyboardInterrupt",
     "evalue": "",
     "output_type": "error",
     "traceback": [
      "\u001b[0;31m---------------------------------------------------------------------------\u001b[0m",
      "\u001b[0;31mKeyboardInterrupt\u001b[0m                         Traceback (most recent call last)",
      "\u001b[0;32m<ipython-input-29-ddbd0d7767c8>\u001b[0m in \u001b[0;36m<module>\u001b[0;34m\u001b[0m\n\u001b[1;32m     34\u001b[0m \u001b[0;31m#         buffer = image\u001b[0m\u001b[0;34m\u001b[0m\u001b[0;34m\u001b[0m\u001b[0;34m\u001b[0m\u001b[0m\n\u001b[1;32m     35\u001b[0m         \u001b[0mframe_encoded\u001b[0m \u001b[0;34m=\u001b[0m \u001b[0mbase64\u001b[0m\u001b[0;34m.\u001b[0m\u001b[0mb64encode\u001b[0m\u001b[0;34m(\u001b[0m\u001b[0mbuffer\u001b[0m\u001b[0;34m)\u001b[0m\u001b[0;34m\u001b[0m\u001b[0;34m\u001b[0m\u001b[0m\n\u001b[0;32m---> 36\u001b[0;31m         \u001b[0mresponse\u001b[0m \u001b[0;34m=\u001b[0m \u001b[0mrequests\u001b[0m\u001b[0;34m.\u001b[0m\u001b[0mpost\u001b[0m\u001b[0;34m(\u001b[0m\u001b[0murl\u001b[0m\u001b[0;34m,\u001b[0m \u001b[0mdata\u001b[0m\u001b[0;34m=\u001b[0m\u001b[0;34m{\u001b[0m\u001b[0;34m\"image\"\u001b[0m\u001b[0;34m:\u001b[0m\u001b[0mframe_encoded\u001b[0m\u001b[0;34m}\u001b[0m\u001b[0;34m)\u001b[0m\u001b[0;34m\u001b[0m\u001b[0;34m\u001b[0m\u001b[0m\n\u001b[0m\u001b[1;32m     37\u001b[0m \u001b[0;34m\u001b[0m\u001b[0m\n\u001b[1;32m     38\u001b[0m         \u001b[0mnow\u001b[0m \u001b[0;34m=\u001b[0m \u001b[0mtime\u001b[0m\u001b[0;34m.\u001b[0m\u001b[0mtime\u001b[0m\u001b[0;34m(\u001b[0m\u001b[0;34m)\u001b[0m\u001b[0;34m\u001b[0m\u001b[0;34m\u001b[0m\u001b[0m\n",
      "\u001b[0;32m~/anaconda3/lib/python3.8/site-packages/requests/api.py\u001b[0m in \u001b[0;36mpost\u001b[0;34m(url, data, json, **kwargs)\u001b[0m\n\u001b[1;32m    117\u001b[0m     \"\"\"\n\u001b[1;32m    118\u001b[0m \u001b[0;34m\u001b[0m\u001b[0m\n\u001b[0;32m--> 119\u001b[0;31m     \u001b[0;32mreturn\u001b[0m \u001b[0mrequest\u001b[0m\u001b[0;34m(\u001b[0m\u001b[0;34m'post'\u001b[0m\u001b[0;34m,\u001b[0m \u001b[0murl\u001b[0m\u001b[0;34m,\u001b[0m \u001b[0mdata\u001b[0m\u001b[0;34m=\u001b[0m\u001b[0mdata\u001b[0m\u001b[0;34m,\u001b[0m \u001b[0mjson\u001b[0m\u001b[0;34m=\u001b[0m\u001b[0mjson\u001b[0m\u001b[0;34m,\u001b[0m \u001b[0;34m**\u001b[0m\u001b[0mkwargs\u001b[0m\u001b[0;34m)\u001b[0m\u001b[0;34m\u001b[0m\u001b[0;34m\u001b[0m\u001b[0m\n\u001b[0m\u001b[1;32m    120\u001b[0m \u001b[0;34m\u001b[0m\u001b[0m\n\u001b[1;32m    121\u001b[0m \u001b[0;34m\u001b[0m\u001b[0m\n",
      "\u001b[0;32m~/anaconda3/lib/python3.8/site-packages/requests/api.py\u001b[0m in \u001b[0;36mrequest\u001b[0;34m(method, url, **kwargs)\u001b[0m\n\u001b[1;32m     59\u001b[0m     \u001b[0;31m# cases, and look like a memory leak in others.\u001b[0m\u001b[0;34m\u001b[0m\u001b[0;34m\u001b[0m\u001b[0;34m\u001b[0m\u001b[0m\n\u001b[1;32m     60\u001b[0m     \u001b[0;32mwith\u001b[0m \u001b[0msessions\u001b[0m\u001b[0;34m.\u001b[0m\u001b[0mSession\u001b[0m\u001b[0;34m(\u001b[0m\u001b[0;34m)\u001b[0m \u001b[0;32mas\u001b[0m \u001b[0msession\u001b[0m\u001b[0;34m:\u001b[0m\u001b[0;34m\u001b[0m\u001b[0;34m\u001b[0m\u001b[0m\n\u001b[0;32m---> 61\u001b[0;31m         \u001b[0;32mreturn\u001b[0m \u001b[0msession\u001b[0m\u001b[0;34m.\u001b[0m\u001b[0mrequest\u001b[0m\u001b[0;34m(\u001b[0m\u001b[0mmethod\u001b[0m\u001b[0;34m=\u001b[0m\u001b[0mmethod\u001b[0m\u001b[0;34m,\u001b[0m \u001b[0murl\u001b[0m\u001b[0;34m=\u001b[0m\u001b[0murl\u001b[0m\u001b[0;34m,\u001b[0m \u001b[0;34m**\u001b[0m\u001b[0mkwargs\u001b[0m\u001b[0;34m)\u001b[0m\u001b[0;34m\u001b[0m\u001b[0;34m\u001b[0m\u001b[0m\n\u001b[0m\u001b[1;32m     62\u001b[0m \u001b[0;34m\u001b[0m\u001b[0m\n\u001b[1;32m     63\u001b[0m \u001b[0;34m\u001b[0m\u001b[0m\n",
      "\u001b[0;32m~/anaconda3/lib/python3.8/site-packages/requests/sessions.py\u001b[0m in \u001b[0;36mrequest\u001b[0;34m(self, method, url, params, data, headers, cookies, files, auth, timeout, allow_redirects, proxies, hooks, stream, verify, cert, json)\u001b[0m\n\u001b[1;32m    528\u001b[0m         }\n\u001b[1;32m    529\u001b[0m         \u001b[0msend_kwargs\u001b[0m\u001b[0;34m.\u001b[0m\u001b[0mupdate\u001b[0m\u001b[0;34m(\u001b[0m\u001b[0msettings\u001b[0m\u001b[0;34m)\u001b[0m\u001b[0;34m\u001b[0m\u001b[0;34m\u001b[0m\u001b[0m\n\u001b[0;32m--> 530\u001b[0;31m         \u001b[0mresp\u001b[0m \u001b[0;34m=\u001b[0m \u001b[0mself\u001b[0m\u001b[0;34m.\u001b[0m\u001b[0msend\u001b[0m\u001b[0;34m(\u001b[0m\u001b[0mprep\u001b[0m\u001b[0;34m,\u001b[0m \u001b[0;34m**\u001b[0m\u001b[0msend_kwargs\u001b[0m\u001b[0;34m)\u001b[0m\u001b[0;34m\u001b[0m\u001b[0;34m\u001b[0m\u001b[0m\n\u001b[0m\u001b[1;32m    531\u001b[0m \u001b[0;34m\u001b[0m\u001b[0m\n\u001b[1;32m    532\u001b[0m         \u001b[0;32mreturn\u001b[0m \u001b[0mresp\u001b[0m\u001b[0;34m\u001b[0m\u001b[0;34m\u001b[0m\u001b[0m\n",
      "\u001b[0;32m~/anaconda3/lib/python3.8/site-packages/requests/sessions.py\u001b[0m in \u001b[0;36msend\u001b[0;34m(self, request, **kwargs)\u001b[0m\n\u001b[1;32m    641\u001b[0m \u001b[0;34m\u001b[0m\u001b[0m\n\u001b[1;32m    642\u001b[0m         \u001b[0;31m# Send the request\u001b[0m\u001b[0;34m\u001b[0m\u001b[0;34m\u001b[0m\u001b[0;34m\u001b[0m\u001b[0m\n\u001b[0;32m--> 643\u001b[0;31m         \u001b[0mr\u001b[0m \u001b[0;34m=\u001b[0m \u001b[0madapter\u001b[0m\u001b[0;34m.\u001b[0m\u001b[0msend\u001b[0m\u001b[0;34m(\u001b[0m\u001b[0mrequest\u001b[0m\u001b[0;34m,\u001b[0m \u001b[0;34m**\u001b[0m\u001b[0mkwargs\u001b[0m\u001b[0;34m)\u001b[0m\u001b[0;34m\u001b[0m\u001b[0;34m\u001b[0m\u001b[0m\n\u001b[0m\u001b[1;32m    644\u001b[0m \u001b[0;34m\u001b[0m\u001b[0m\n\u001b[1;32m    645\u001b[0m         \u001b[0;31m# Total elapsed time of the request (approximately)\u001b[0m\u001b[0;34m\u001b[0m\u001b[0;34m\u001b[0m\u001b[0;34m\u001b[0m\u001b[0m\n",
      "\u001b[0;32m~/anaconda3/lib/python3.8/site-packages/requests/adapters.py\u001b[0m in \u001b[0;36msend\u001b[0;34m(self, request, stream, timeout, verify, cert, proxies)\u001b[0m\n\u001b[1;32m    437\u001b[0m         \u001b[0;32mtry\u001b[0m\u001b[0;34m:\u001b[0m\u001b[0;34m\u001b[0m\u001b[0;34m\u001b[0m\u001b[0m\n\u001b[1;32m    438\u001b[0m             \u001b[0;32mif\u001b[0m \u001b[0;32mnot\u001b[0m \u001b[0mchunked\u001b[0m\u001b[0;34m:\u001b[0m\u001b[0;34m\u001b[0m\u001b[0;34m\u001b[0m\u001b[0m\n\u001b[0;32m--> 439\u001b[0;31m                 resp = conn.urlopen(\n\u001b[0m\u001b[1;32m    440\u001b[0m                     \u001b[0mmethod\u001b[0m\u001b[0;34m=\u001b[0m\u001b[0mrequest\u001b[0m\u001b[0;34m.\u001b[0m\u001b[0mmethod\u001b[0m\u001b[0;34m,\u001b[0m\u001b[0;34m\u001b[0m\u001b[0;34m\u001b[0m\u001b[0m\n\u001b[1;32m    441\u001b[0m                     \u001b[0murl\u001b[0m\u001b[0;34m=\u001b[0m\u001b[0murl\u001b[0m\u001b[0;34m,\u001b[0m\u001b[0;34m\u001b[0m\u001b[0;34m\u001b[0m\u001b[0m\n",
      "\u001b[0;32m~/anaconda3/lib/python3.8/site-packages/urllib3/connectionpool.py\u001b[0m in \u001b[0;36murlopen\u001b[0;34m(self, method, url, body, headers, retries, redirect, assert_same_host, timeout, pool_timeout, release_conn, chunked, body_pos, **response_kw)\u001b[0m\n\u001b[1;32m    668\u001b[0m \u001b[0;34m\u001b[0m\u001b[0m\n\u001b[1;32m    669\u001b[0m             \u001b[0;31m# Make the request on the httplib connection object.\u001b[0m\u001b[0;34m\u001b[0m\u001b[0;34m\u001b[0m\u001b[0;34m\u001b[0m\u001b[0m\n\u001b[0;32m--> 670\u001b[0;31m             httplib_response = self._make_request(\n\u001b[0m\u001b[1;32m    671\u001b[0m                 \u001b[0mconn\u001b[0m\u001b[0;34m,\u001b[0m\u001b[0;34m\u001b[0m\u001b[0;34m\u001b[0m\u001b[0m\n\u001b[1;32m    672\u001b[0m                 \u001b[0mmethod\u001b[0m\u001b[0;34m,\u001b[0m\u001b[0;34m\u001b[0m\u001b[0;34m\u001b[0m\u001b[0m\n",
      "\u001b[0;32m~/anaconda3/lib/python3.8/site-packages/urllib3/connectionpool.py\u001b[0m in \u001b[0;36m_make_request\u001b[0;34m(self, conn, method, url, timeout, chunked, **httplib_request_kw)\u001b[0m\n\u001b[1;32m    424\u001b[0m                     \u001b[0;31m# Python 3 (including for exceptions like SystemExit).\u001b[0m\u001b[0;34m\u001b[0m\u001b[0;34m\u001b[0m\u001b[0;34m\u001b[0m\u001b[0m\n\u001b[1;32m    425\u001b[0m                     \u001b[0;31m# Otherwise it looks like a bug in the code.\u001b[0m\u001b[0;34m\u001b[0m\u001b[0;34m\u001b[0m\u001b[0;34m\u001b[0m\u001b[0m\n\u001b[0;32m--> 426\u001b[0;31m                     \u001b[0msix\u001b[0m\u001b[0;34m.\u001b[0m\u001b[0mraise_from\u001b[0m\u001b[0;34m(\u001b[0m\u001b[0me\u001b[0m\u001b[0;34m,\u001b[0m \u001b[0;32mNone\u001b[0m\u001b[0;34m)\u001b[0m\u001b[0;34m\u001b[0m\u001b[0;34m\u001b[0m\u001b[0m\n\u001b[0m\u001b[1;32m    427\u001b[0m         \u001b[0;32mexcept\u001b[0m \u001b[0;34m(\u001b[0m\u001b[0mSocketTimeout\u001b[0m\u001b[0;34m,\u001b[0m \u001b[0mBaseSSLError\u001b[0m\u001b[0;34m,\u001b[0m \u001b[0mSocketError\u001b[0m\u001b[0;34m)\u001b[0m \u001b[0;32mas\u001b[0m \u001b[0me\u001b[0m\u001b[0;34m:\u001b[0m\u001b[0;34m\u001b[0m\u001b[0;34m\u001b[0m\u001b[0m\n\u001b[1;32m    428\u001b[0m             \u001b[0mself\u001b[0m\u001b[0;34m.\u001b[0m\u001b[0m_raise_timeout\u001b[0m\u001b[0;34m(\u001b[0m\u001b[0merr\u001b[0m\u001b[0;34m=\u001b[0m\u001b[0me\u001b[0m\u001b[0;34m,\u001b[0m \u001b[0murl\u001b[0m\u001b[0;34m=\u001b[0m\u001b[0murl\u001b[0m\u001b[0;34m,\u001b[0m \u001b[0mtimeout_value\u001b[0m\u001b[0;34m=\u001b[0m\u001b[0mread_timeout\u001b[0m\u001b[0;34m)\u001b[0m\u001b[0;34m\u001b[0m\u001b[0;34m\u001b[0m\u001b[0m\n",
      "\u001b[0;32m~/anaconda3/lib/python3.8/site-packages/urllib3/packages/six.py\u001b[0m in \u001b[0;36mraise_from\u001b[0;34m(value, from_value)\u001b[0m\n",
      "\u001b[0;32m~/anaconda3/lib/python3.8/site-packages/urllib3/connectionpool.py\u001b[0m in \u001b[0;36m_make_request\u001b[0;34m(self, conn, method, url, timeout, chunked, **httplib_request_kw)\u001b[0m\n\u001b[1;32m    419\u001b[0m                 \u001b[0;31m# Python 3\u001b[0m\u001b[0;34m\u001b[0m\u001b[0;34m\u001b[0m\u001b[0;34m\u001b[0m\u001b[0m\n\u001b[1;32m    420\u001b[0m                 \u001b[0;32mtry\u001b[0m\u001b[0;34m:\u001b[0m\u001b[0;34m\u001b[0m\u001b[0;34m\u001b[0m\u001b[0m\n\u001b[0;32m--> 421\u001b[0;31m                     \u001b[0mhttplib_response\u001b[0m \u001b[0;34m=\u001b[0m \u001b[0mconn\u001b[0m\u001b[0;34m.\u001b[0m\u001b[0mgetresponse\u001b[0m\u001b[0;34m(\u001b[0m\u001b[0;34m)\u001b[0m\u001b[0;34m\u001b[0m\u001b[0;34m\u001b[0m\u001b[0m\n\u001b[0m\u001b[1;32m    422\u001b[0m                 \u001b[0;32mexcept\u001b[0m \u001b[0mBaseException\u001b[0m \u001b[0;32mas\u001b[0m \u001b[0me\u001b[0m\u001b[0;34m:\u001b[0m\u001b[0;34m\u001b[0m\u001b[0;34m\u001b[0m\u001b[0m\n\u001b[1;32m    423\u001b[0m                     \u001b[0;31m# Remove the TypeError from the exception chain in\u001b[0m\u001b[0;34m\u001b[0m\u001b[0;34m\u001b[0m\u001b[0;34m\u001b[0m\u001b[0m\n",
      "\u001b[0;32m~/anaconda3/lib/python3.8/http/client.py\u001b[0m in \u001b[0;36mgetresponse\u001b[0;34m(self)\u001b[0m\n\u001b[1;32m   1345\u001b[0m         \u001b[0;32mtry\u001b[0m\u001b[0;34m:\u001b[0m\u001b[0;34m\u001b[0m\u001b[0;34m\u001b[0m\u001b[0m\n\u001b[1;32m   1346\u001b[0m             \u001b[0;32mtry\u001b[0m\u001b[0;34m:\u001b[0m\u001b[0;34m\u001b[0m\u001b[0;34m\u001b[0m\u001b[0m\n\u001b[0;32m-> 1347\u001b[0;31m                 \u001b[0mresponse\u001b[0m\u001b[0;34m.\u001b[0m\u001b[0mbegin\u001b[0m\u001b[0;34m(\u001b[0m\u001b[0;34m)\u001b[0m\u001b[0;34m\u001b[0m\u001b[0;34m\u001b[0m\u001b[0m\n\u001b[0m\u001b[1;32m   1348\u001b[0m             \u001b[0;32mexcept\u001b[0m \u001b[0mConnectionError\u001b[0m\u001b[0;34m:\u001b[0m\u001b[0;34m\u001b[0m\u001b[0;34m\u001b[0m\u001b[0m\n\u001b[1;32m   1349\u001b[0m                 \u001b[0mself\u001b[0m\u001b[0;34m.\u001b[0m\u001b[0mclose\u001b[0m\u001b[0;34m(\u001b[0m\u001b[0;34m)\u001b[0m\u001b[0;34m\u001b[0m\u001b[0;34m\u001b[0m\u001b[0m\n",
      "\u001b[0;32m~/anaconda3/lib/python3.8/http/client.py\u001b[0m in \u001b[0;36mbegin\u001b[0;34m(self)\u001b[0m\n\u001b[1;32m    305\u001b[0m         \u001b[0;31m# read until we get a non-100 response\u001b[0m\u001b[0;34m\u001b[0m\u001b[0;34m\u001b[0m\u001b[0;34m\u001b[0m\u001b[0m\n\u001b[1;32m    306\u001b[0m         \u001b[0;32mwhile\u001b[0m \u001b[0;32mTrue\u001b[0m\u001b[0;34m:\u001b[0m\u001b[0;34m\u001b[0m\u001b[0;34m\u001b[0m\u001b[0m\n\u001b[0;32m--> 307\u001b[0;31m             \u001b[0mversion\u001b[0m\u001b[0;34m,\u001b[0m \u001b[0mstatus\u001b[0m\u001b[0;34m,\u001b[0m \u001b[0mreason\u001b[0m \u001b[0;34m=\u001b[0m \u001b[0mself\u001b[0m\u001b[0;34m.\u001b[0m\u001b[0m_read_status\u001b[0m\u001b[0;34m(\u001b[0m\u001b[0;34m)\u001b[0m\u001b[0;34m\u001b[0m\u001b[0;34m\u001b[0m\u001b[0m\n\u001b[0m\u001b[1;32m    308\u001b[0m             \u001b[0;32mif\u001b[0m \u001b[0mstatus\u001b[0m \u001b[0;34m!=\u001b[0m \u001b[0mCONTINUE\u001b[0m\u001b[0;34m:\u001b[0m\u001b[0;34m\u001b[0m\u001b[0;34m\u001b[0m\u001b[0m\n\u001b[1;32m    309\u001b[0m                 \u001b[0;32mbreak\u001b[0m\u001b[0;34m\u001b[0m\u001b[0;34m\u001b[0m\u001b[0m\n",
      "\u001b[0;32m~/anaconda3/lib/python3.8/http/client.py\u001b[0m in \u001b[0;36m_read_status\u001b[0;34m(self)\u001b[0m\n\u001b[1;32m    266\u001b[0m \u001b[0;34m\u001b[0m\u001b[0m\n\u001b[1;32m    267\u001b[0m     \u001b[0;32mdef\u001b[0m \u001b[0m_read_status\u001b[0m\u001b[0;34m(\u001b[0m\u001b[0mself\u001b[0m\u001b[0;34m)\u001b[0m\u001b[0;34m:\u001b[0m\u001b[0;34m\u001b[0m\u001b[0;34m\u001b[0m\u001b[0m\n\u001b[0;32m--> 268\u001b[0;31m         \u001b[0mline\u001b[0m \u001b[0;34m=\u001b[0m \u001b[0mstr\u001b[0m\u001b[0;34m(\u001b[0m\u001b[0mself\u001b[0m\u001b[0;34m.\u001b[0m\u001b[0mfp\u001b[0m\u001b[0;34m.\u001b[0m\u001b[0mreadline\u001b[0m\u001b[0;34m(\u001b[0m\u001b[0m_MAXLINE\u001b[0m \u001b[0;34m+\u001b[0m \u001b[0;36m1\u001b[0m\u001b[0;34m)\u001b[0m\u001b[0;34m,\u001b[0m \u001b[0;34m\"iso-8859-1\"\u001b[0m\u001b[0;34m)\u001b[0m\u001b[0;34m\u001b[0m\u001b[0;34m\u001b[0m\u001b[0m\n\u001b[0m\u001b[1;32m    269\u001b[0m         \u001b[0;32mif\u001b[0m \u001b[0mlen\u001b[0m\u001b[0;34m(\u001b[0m\u001b[0mline\u001b[0m\u001b[0;34m)\u001b[0m \u001b[0;34m>\u001b[0m \u001b[0m_MAXLINE\u001b[0m\u001b[0;34m:\u001b[0m\u001b[0;34m\u001b[0m\u001b[0;34m\u001b[0m\u001b[0m\n\u001b[1;32m    270\u001b[0m             \u001b[0;32mraise\u001b[0m \u001b[0mLineTooLong\u001b[0m\u001b[0;34m(\u001b[0m\u001b[0;34m\"status line\"\u001b[0m\u001b[0;34m)\u001b[0m\u001b[0;34m\u001b[0m\u001b[0;34m\u001b[0m\u001b[0m\n",
      "\u001b[0;32m~/anaconda3/lib/python3.8/socket.py\u001b[0m in \u001b[0;36mreadinto\u001b[0;34m(self, b)\u001b[0m\n\u001b[1;32m    667\u001b[0m         \u001b[0;32mwhile\u001b[0m \u001b[0;32mTrue\u001b[0m\u001b[0;34m:\u001b[0m\u001b[0;34m\u001b[0m\u001b[0;34m\u001b[0m\u001b[0m\n\u001b[1;32m    668\u001b[0m             \u001b[0;32mtry\u001b[0m\u001b[0;34m:\u001b[0m\u001b[0;34m\u001b[0m\u001b[0;34m\u001b[0m\u001b[0m\n\u001b[0;32m--> 669\u001b[0;31m                 \u001b[0;32mreturn\u001b[0m \u001b[0mself\u001b[0m\u001b[0;34m.\u001b[0m\u001b[0m_sock\u001b[0m\u001b[0;34m.\u001b[0m\u001b[0mrecv_into\u001b[0m\u001b[0;34m(\u001b[0m\u001b[0mb\u001b[0m\u001b[0;34m)\u001b[0m\u001b[0;34m\u001b[0m\u001b[0;34m\u001b[0m\u001b[0m\n\u001b[0m\u001b[1;32m    670\u001b[0m             \u001b[0;32mexcept\u001b[0m \u001b[0mtimeout\u001b[0m\u001b[0;34m:\u001b[0m\u001b[0;34m\u001b[0m\u001b[0;34m\u001b[0m\u001b[0m\n\u001b[1;32m    671\u001b[0m                 \u001b[0mself\u001b[0m\u001b[0;34m.\u001b[0m\u001b[0m_timeout_occurred\u001b[0m \u001b[0;34m=\u001b[0m \u001b[0;32mTrue\u001b[0m\u001b[0;34m\u001b[0m\u001b[0;34m\u001b[0m\u001b[0m\n",
      "\u001b[0;31mKeyboardInterrupt\u001b[0m: "
     ]
    }
   ],
   "source": [
    "import sys\n",
    "import time \n",
    "import imageio\n",
    "import base64\n",
    "import requests\n",
    "import cv2\n",
    "\n",
    "\n",
    "VIDEO_URL = \"data/petrosyan.mp4\"\n",
    "\n",
    "url = 'http://0.0.0.0:7777/'\n",
    "\n",
    "# prepare headers for http request\n",
    "content_type = 'image/jpeg'\n",
    "headers = {'content-type': content_type}\n",
    "\n",
    "vid = imageio.get_reader(VIDEO_URL,  'ffmpeg')\n",
    "num = 100\n",
    "count = 0\n",
    "while(True):\n",
    "#    ret, frame = cap.read()\n",
    "#    if ret:\n",
    "        frame_start_time = time.time()\n",
    "\n",
    "        # TODO: perform frame processing here\n",
    "\n",
    "        # encode image as jpeg\n",
    "        image = vid.get_data(num)\n",
    "        count += 1\n",
    "        if count % 100 != 0:\n",
    "            continue\n",
    "            \n",
    "        retval, buffer = cv2.imencode('.jpg', image)\n",
    "#         buffer = image\n",
    "        frame_encoded = base64.b64encode(buffer)\n",
    "        response = requests.post(url, data={\"image\":frame_encoded})\n",
    "    \n",
    "        now = time.time()\n",
    "        frame_time = now - frame_start_time\n",
    "        fps = 1.0 / frame_time\n",
    "        print('FPS', fps)\n"
   ]
  },
  {
   "cell_type": "code",
   "execution_count": 30,
   "metadata": {},
   "outputs": [
    {
     "data": {
      "text/plain": [
       "{'faces': [{'bbox': {'xmax': 319, 'xmin': 170, 'ymax': 259, 'ymin': 37},\n",
       "   'confidence': 1.0,\n",
       "   'emotion': 'sad',\n",
       "   'eye_gaze': {'x_coord': 0.2, 'y_coord': 0.03},\n",
       "   'head_pose': {'pitch': 13.23, 'roll': -2.32, 'yaw': -13.91},\n",
       "   'landmarks': {'left_eye1': [231, 139],\n",
       "    'left_eye2': [203, 138],\n",
       "    'right_eye1': [279, 134],\n",
       "    'right_eye2': [311, 129]}}],\n",
       " 'faces_num': 1,\n",
       " 'success': True}"
      ]
     },
     "execution_count": 30,
     "metadata": {},
     "output_type": "execute_result"
    }
   ],
   "source": [
    "response.json()"
   ]
  },
  {
   "cell_type": "code",
   "execution_count": null,
   "metadata": {},
   "outputs": [],
   "source": []
  },
  {
   "cell_type": "code",
   "execution_count": null,
   "metadata": {},
   "outputs": [],
   "source": []
  },
  {
   "cell_type": "code",
   "execution_count": null,
   "metadata": {},
   "outputs": [],
   "source": []
  },
  {
   "cell_type": "code",
   "execution_count": null,
   "metadata": {},
   "outputs": [],
   "source": []
  }
 ],
 "metadata": {
  "kernelspec": {
   "display_name": "Python 3",
   "language": "python",
   "name": "python3"
  },
  "language_info": {
   "codemirror_mode": {
    "name": "ipython",
    "version": 3
   },
   "file_extension": ".py",
   "mimetype": "text/x-python",
   "name": "python",
   "nbconvert_exporter": "python",
   "pygments_lexer": "ipython3",
   "version": "3.7.9"
  }
 },
 "nbformat": 4,
 "nbformat_minor": 4
}
