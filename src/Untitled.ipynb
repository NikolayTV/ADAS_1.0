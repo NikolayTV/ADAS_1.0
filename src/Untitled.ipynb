{
 "cells": [
  {
   "cell_type": "code",
   "execution_count": 1,
   "metadata": {},
   "outputs": [],
   "source": [
    "import argparse\n",
    "\n",
    "import cv2\n",
    "import numpy as np\n",
    "import torch\n",
    "import time\n",
    "from core.cv.pose_estimation_modules_2.with_mobilenet import PoseEstimationWithMobileNet\n",
    "from core.cv.pose_estimation_modules_2.keypoints import extract_keypoints, group_keypoints, BODY_PARTS_KPT_IDS, BODY_PARTS_PAF_IDS\n",
    "from core.cv.pose_estimation_modules_2.load_state import load_state\n",
    "import math\n",
    "\n",
    "\n",
    "\n",
    "def normalize(img, img_mean, img_scale):\n",
    "    img = np.array(img, dtype=np.float32)\n",
    "    img = (img - img_mean) * img_scale\n",
    "    return img\n",
    "\n",
    "\n",
    "def pad_width(img, stride, pad_value, min_dims):\n",
    "    h, w, _ = img.shape\n",
    "    h = min(min_dims[0], h)\n",
    "    min_dims[0] = math.ceil(min_dims[0] / float(stride)) * stride\n",
    "    min_dims[1] = max(min_dims[1], w)\n",
    "    min_dims[1] = math.ceil(min_dims[1] / float(stride)) * stride\n",
    "    pad = []\n",
    "    pad.append(int(math.floor((min_dims[0] - h) / 2.0)))\n",
    "    pad.append(int(math.floor((min_dims[1] - w) / 2.0)))\n",
    "    pad.append(int(min_dims[0] - h - pad[0]))\n",
    "    pad.append(int(min_dims[1] - w - pad[1]))\n",
    "    padded_img = cv2.copyMakeBorder(img, pad[0], pad[2], pad[1], pad[3],\n",
    "                                    cv2.BORDER_CONSTANT, value=pad_value)\n",
    "    return padded_img, pad\n"
   ]
  },
  {
   "cell_type": "code",
   "execution_count": 2,
   "metadata": {},
   "outputs": [],
   "source": [
    "class pose_estimation_python(object):\n",
    "    net = None\n",
    "\n",
    "    def __init__(self, device='cpu'):\n",
    "        self.device = device\n",
    "\n",
    "        self.net = PoseEstimationWithMobileNet()\n",
    "        checkpoint = torch.load('models/pose_estimation_2d.tar', map_location=self.device)\n",
    "        load_state(self.net, checkpoint)\n",
    "        self.net = self.net.eval()\n",
    "        self.stride = 8\n",
    "        self.upsample_ratio = 4\n",
    "        self.height_size = 256\n",
    "\n",
    "        if device != 'cpu':\n",
    "            net = self.net.cuda()\n",
    "\n",
    "    def infer_fast(self, img, net_input_height_size,\n",
    "                   pad_value=(0, 0, 0), img_mean=(128, 128, 128), img_scale=1 / 256):\n",
    "\n",
    "        height, width, _ = img.shape\n",
    "        scale = net_input_height_size / height\n",
    "\n",
    "        scaled_img = cv2.resize(img, (0, 0), fx=scale, fy=scale, interpolation=cv2.INTER_CUBIC)\n",
    "        scaled_img = normalize(scaled_img, img_mean, img_scale)\n",
    "        min_dims = [net_input_height_size, max(scaled_img.shape[1], net_input_height_size)]\n",
    "        padded_img, pad = pad_width(scaled_img, self.stride, pad_value, min_dims)\n",
    "\n",
    "        tensor_img = torch.from_numpy(padded_img).permute(2, 0, 1).unsqueeze(0).float()\n",
    "        if self.device != 'cpu':\n",
    "            tensor_img = tensor_img.cuda()\n",
    "\n",
    "        stages_output = self.net(tensor_img)\n",
    "\n",
    "        stage2_heatmaps = stages_output[-2]\n",
    "        heatmaps = np.transpose(stage2_heatmaps.squeeze().cpu().data.numpy(), (1, 2, 0))\n",
    "        heatmaps = cv2.resize(heatmaps, (0, 0), fx=self.upsample_ratio, fy=self.upsample_ratio, interpolation=cv2.INTER_CUBIC)\n",
    "\n",
    "        stage2_pafs = stages_output[-1]\n",
    "        pafs = np.transpose(stage2_pafs.squeeze().cpu().data.numpy(), (1, 2, 0))\n",
    "        pafs = cv2.resize(pafs, (0, 0), fx=self.upsample_ratio, fy=self.upsample_ratio, interpolation=cv2.INTER_CUBIC)\n",
    "\n",
    "        total_keypoints_num = 0\n",
    "        all_keypoints_by_type = []\n",
    "        for kpt_idx in range(18):  # 19th for bg\n",
    "            total_keypoints_num += extract_keypoints(heatmaps[:, :, kpt_idx], all_keypoints_by_type,\n",
    "                                                     total_keypoints_num)\n",
    "\n",
    "        pose_entries, all_keypoints = group_keypoints(all_keypoints_by_type, pafs)\n",
    "\n",
    "        return pose_entries, all_keypoints, scale, pad, heatmaps, pafs\n",
    "\n",
    "    def predict(self, img, height_size,):\n",
    "        with torch.no_grad():\n",
    "            return self.infer_fast(img, height_size)\n",
    "        \n",
    "pose_estimator = pose_estimation_python()"
   ]
  },
  {
   "cell_type": "code",
   "execution_count": 3,
   "metadata": {},
   "outputs": [],
   "source": [
    "img_path = '../data/1.jpg'\n",
    "# img_path = '1.png'\n",
    "\n",
    "stride = 8\n",
    "upsample_ratio = 4\n",
    "color = [0, 224, 255]\n",
    "\n",
    "image = cv2.imread(img_path, cv2.IMREAD_COLOR)\n",
    "\n",
    "pose_entries, all_keypoints, scale, pad, heatmaps, pafs = pose_estimator.predict(image, 265)"
   ]
  },
  {
   "cell_type": "code",
   "execution_count": 4,
   "metadata": {},
   "outputs": [],
   "source": [
    "from core.cv.pose_estimation_modules.parse_poses import parse_poses\n"
   ]
  },
  {
   "cell_type": "code",
   "execution_count": 5,
   "metadata": {},
   "outputs": [],
   "source": [
    "from pose_extractor import extract_poses\n",
    "\n",
    "AVG_PERSON_HEIGHT = 180\n",
    "\n",
    "# pelvis (body center) is missing, id == 2\n",
    "map_id_to_panoptic = [1, 0, 9, 10, 11, 3, 4, 5, 12, 13, 14, 6, 7, 8, 15, 16, 17, 18]\n",
    "\n",
    "limbs = [[18, 17, 1],\n",
    "         [16, 15, 1],\n",
    "         [5, 4, 3],\n",
    "         [8, 7, 6],\n",
    "         [11, 10, 9],\n",
    "         [14, 13, 12]]\n",
    "\n",
    "\n",
    "def get_root_relative_poses(inference_results):\n",
    "    # features, heatmap, paf_map = inference_results[0][0], inference_results[1][0], inference_results[2][0] # My\n",
    "    features, heatmap, paf_map = inference_results\n",
    "\n",
    "    upsample_ratio = 4\n",
    "    found_poses = extract_poses(heatmap[0:-1], paf_map, upsample_ratio)[0]"
   ]
  },
  {
   "cell_type": "code",
   "execution_count": 16,
   "metadata": {},
   "outputs": [],
   "source": [
    "upsample_ratio = 4\n",
    "found_poses = extract_poses(heatmaps, pafs, upsample_ratio)[0]"
   ]
  },
  {
   "cell_type": "code",
   "execution_count": null,
   "metadata": {
    "scrolled": true
   },
   "outputs": [],
   "source": []
  },
  {
   "cell_type": "code",
   "execution_count": null,
   "metadata": {},
   "outputs": [],
   "source": []
  }
 ],
 "metadata": {
  "kernelspec": {
   "display_name": "Python 3",
   "language": "python",
   "name": "python3"
  },
  "language_info": {
   "codemirror_mode": {
    "name": "ipython",
    "version": 3
   },
   "file_extension": ".py",
   "mimetype": "text/x-python",
   "name": "python",
   "nbconvert_exporter": "python",
   "pygments_lexer": "ipython3",
   "version": "3.7.3"
  }
 },
 "nbformat": 4,
 "nbformat_minor": 4
}
